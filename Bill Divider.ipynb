{
 "cells": [
  {
   "cell_type": "markdown",
   "id": "5a75ba04",
   "metadata": {},
   "source": [
    "#### Welcome To The Bill Divider App:"
   ]
  },
  {
   "cell_type": "code",
   "execution_count": null,
   "id": "2ebad047",
   "metadata": {},
   "outputs": [],
   "source": []
  },
  {
   "cell_type": "code",
   "execution_count": 3,
   "id": "189985c0",
   "metadata": {},
   "outputs": [
    {
     "name": "stdout",
     "output_type": "stream",
     "text": [
      "Are you paying your bills in dollar($) or euros(€)?\n",
      "euro\n",
      "What was the total bill in €?\n",
      "455\n",
      "How much tip would you like to give? 5, 10, 12, or 15?\n",
      "10\n",
      "How many people to split the bill?\n",
      "5\n",
      "Each one of you has to pay:100.1 €\n"
     ]
    }
   ],
   "source": [
    "total_bill = 0\n",
    "currency_symbol = []\n",
    "currency = input(\"Are you paying your bills in dollar($) or euros(€)?\\n\")\n",
    "if currency == 'dollar' or currency.lower() == 'dollars':\n",
    "    currency_symbol.append('$')\n",
    "elif currency.lower() == 'euro' or currency.lower() ==  'euros':\n",
    "    currency_symbol.append('€')\n",
    "else:\n",
    "    print(\"Please choose between dollar and euro\")\n",
    "    \n",
    "\n",
    "if len(currency_symbol) >= 1:\n",
    "    bill = float(input(f\"What was the total bill in {currency_symbol[0]}?\\n\"))\n",
    "    tips = int(input(\"How much tip would you like to give? 5, 10, 12, or 15?\\n\"))\n",
    "    if tips == 5:\n",
    "        total_bill+= (5/100)*bill\n",
    "    elif tips == 10:\n",
    "        total_bill += (10/100)*bill\n",
    "    elif tips == 12:\n",
    "        total_bill += (12/100)*bill\n",
    "    elif tips == 15:\n",
    "        total_bill += (15/100)*bill\n",
    "    else:\n",
    "        print(\"Please choose between the option 5, 10, 12 and 15 for tips\")\n",
    "\n",
    "    participants = int(input(\"How many people to split the bill?\\n\"))\n",
    "    divided_bill = round((total_bill + bill)/participants,2)\n",
    "    print(f\"Each one of you has to pay:{divided_bill} {currency_symbol[0]}\")\n",
    "else:\n",
    "    \"Please Try Again\"\n"
   ]
  },
  {
   "cell_type": "code",
   "execution_count": null,
   "id": "2cf6ddb1",
   "metadata": {},
   "outputs": [],
   "source": [
    "\n"
   ]
  },
  {
   "cell_type": "code",
   "execution_count": null,
   "id": "0cc84de1",
   "metadata": {},
   "outputs": [],
   "source": []
  },
  {
   "cell_type": "code",
   "execution_count": null,
   "id": "42f6a1c5",
   "metadata": {},
   "outputs": [],
   "source": []
  }
 ],
 "metadata": {
  "kernelspec": {
   "display_name": "Python 3 (ipykernel)",
   "language": "python",
   "name": "python3"
  },
  "language_info": {
   "codemirror_mode": {
    "name": "ipython",
    "version": 3
   },
   "file_extension": ".py",
   "mimetype": "text/x-python",
   "name": "python",
   "nbconvert_exporter": "python",
   "pygments_lexer": "ipython3",
   "version": "3.9.7"
  }
 },
 "nbformat": 4,
 "nbformat_minor": 5
}
